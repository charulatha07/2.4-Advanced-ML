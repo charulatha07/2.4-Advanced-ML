{
 "cells": [
  {
   "cell_type": "code",
   "execution_count": 1,
   "id": "ce6c4b34",
   "metadata": {},
   "outputs": [],
   "source": [
    "import pandas as pd\n",
    "from sklearn.model_selection import train_test_split \n",
    "import time\n",
    "import numpy as np\n",
    "from sklearn.preprocessing import StandardScaler\n",
    "from sklearn.feature_selection import SelectKBest\n",
    "\n",
    "from sklearn.feature_selection import RFE\n",
    "from sklearn.linear_model import LogisticRegression\n",
    "import pickle\n",
    "import matplotlib.pyplot as plt\n",
    "from sklearn.decomposition import PCA"
   ]
  },
  {
   "cell_type": "code",
   "execution_count": 2,
   "id": "a8fb1e02",
   "metadata": {},
   "outputs": [],
   "source": [
    "def apply_pca(indep_X, n_components=2):\n",
    "    pca = PCA(n_components=n_components)\n",
    "    X_pca = pca.fit_transform(indep_X)\n",
    "    explained_variance = pca.explained_variance_ratio_\n",
    "\n",
    "    print(\"Explained Variance Ratio:\", explained_variance)\n",
    "    \n",
    "    return X_pca"
   ]
  },
  {
   "cell_type": "code",
   "execution_count": 3,
   "id": "955a6ac1",
   "metadata": {},
   "outputs": [],
   "source": [
    "def split_scalar(indep_X, dep_Y):\n",
    "    X_train, X_test, y_train, y_test = train_test_split(indep_X, dep_Y, test_size=0.25, random_state=0)\n",
    "    sc = StandardScaler()\n",
    "    X_train = sc.fit_transform(X_train)\n",
    "    X_test = sc.transform(X_test)    \n",
    "    return X_train, X_test, y_train, y_test"
   ]
  },
  {
   "cell_type": "code",
   "execution_count": 4,
   "id": "ce369762",
   "metadata": {},
   "outputs": [],
   "source": [
    "def r2_prediction(regressor, X_test, y_test):\n",
    "    y_pred = regressor.predict(X_test)\n",
    "    from sklearn.metrics import r2_score\n",
    "    r2 = r2_score(y_test, y_pred)\n",
    "    return r2"
   ]
  },
  {
   "cell_type": "code",
   "execution_count": 5,
   "id": "8c5bc9ab",
   "metadata": {},
   "outputs": [],
   "source": [
    "def Linear(X_train, y_train, X_test):       \n",
    "    from sklearn.linear_model import LinearRegression\n",
    "    regressor = LinearRegression()\n",
    "    regressor.fit(X_train, y_train)\n",
    "    r2 = r2_prediction(regressor, X_test, y_test)\n",
    "    return r2   "
   ]
  },
  {
   "cell_type": "code",
   "execution_count": 6,
   "id": "70fc4ce1",
   "metadata": {},
   "outputs": [],
   "source": [
    "def svm_linear(X_train, y_train, X_test):\n",
    "    from sklearn.svm import SVR\n",
    "    regressor = SVR(kernel='linear')\n",
    "    regressor.fit(X_train, y_train)\n",
    "    r2 = r2_prediction(regressor, X_test, y_test)\n",
    "    return r2  "
   ]
  },
  {
   "cell_type": "code",
   "execution_count": 7,
   "id": "cc68bb04",
   "metadata": {},
   "outputs": [],
   "source": [
    "def svm_NL(X_train, y_train, X_test):\n",
    "    from sklearn.svm import SVR\n",
    "    regressor = SVR(kernel='rbf')\n",
    "    regressor.fit(X_train, y_train)\n",
    "    r2 = r2_prediction(regressor, X_test, y_test)\n",
    "    return r2  "
   ]
  },
  {
   "cell_type": "code",
   "execution_count": 8,
   "id": "740379f5",
   "metadata": {},
   "outputs": [],
   "source": [
    "def Decision(X_train, y_train, X_test):\n",
    "    from sklearn.tree import DecisionTreeRegressor\n",
    "    regressor = DecisionTreeRegressor(random_state=0)\n",
    "    regressor.fit(X_train, y_train)\n",
    "    r2 = r2_prediction(regressor, X_test, y_test)\n",
    "    return r2  "
   ]
  },
  {
   "cell_type": "code",
   "execution_count": 9,
   "id": "a7d4a8e3",
   "metadata": {},
   "outputs": [],
   "source": [
    "def random(X_train, y_train, X_test):       \n",
    "    from sklearn.ensemble import RandomForestRegressor\n",
    "    regressor = RandomForestRegressor(n_estimators=10, random_state=0)\n",
    "    regressor.fit(X_train, y_train)\n",
    "    r2 = r2_prediction(regressor, X_test, y_test)\n",
    "    return r2 \n"
   ]
  },
  {
   "cell_type": "code",
   "execution_count": 10,
   "id": "b66c9e96",
   "metadata": {},
   "outputs": [],
   "source": [
    "def pca_i(acclin, accsvml, accsvmnl, accdes, accrf): \n",
    "    dataframe = pd.DataFrame(index=['PCA'], columns=['Linear', 'SVMl', 'SVMnl', 'Decision', 'Random'])\n",
    "\n",
    "    for number, idex in enumerate(dataframe.index):\n",
    "        dataframe['Linear'][idex] = acclin[number]       \n",
    "        dataframe['SVMl'][idex] = accsvml[number]\n",
    "        dataframe['SVMnl'][idex] = accsvmnl[number]\n",
    "        dataframe['Decision'][idex] = accdes[number]\n",
    "        dataframe['Random'][idex] = accrf[number]\n",
    "    return dataframe"
   ]
  },
  {
   "cell_type": "code",
   "execution_count": 11,
   "id": "cfd1f9f6",
   "metadata": {},
   "outputs": [],
   "source": [
    "dataset1 = pd.read_csv(\"prep.csv\", index_col=None)\n"
   ]
  },
  {
   "cell_type": "code",
   "execution_count": 12,
   "id": "18b535fc",
   "metadata": {},
   "outputs": [],
   "source": [
    "df2 = dataset1"
   ]
  },
  {
   "cell_type": "code",
   "execution_count": 13,
   "id": "80e226c9",
   "metadata": {},
   "outputs": [],
   "source": [
    "df2 = pd.get_dummies(df2, drop_first=True)"
   ]
  },
  {
   "cell_type": "code",
   "execution_count": 14,
   "id": "5e194ec4",
   "metadata": {},
   "outputs": [],
   "source": [
    "\n",
    "indep_X = df2.drop('classification_yes', axis=1)\n",
    "dep_Y = df2['classification_yes']\n"
   ]
  },
  {
   "cell_type": "code",
   "execution_count": 15,
   "id": "8eae6081",
   "metadata": {},
   "outputs": [
    {
     "name": "stdout",
     "output_type": "stream",
     "text": [
      "Explained Variance Ratio: [9.98650909e-01 8.79001590e-04]\n"
     ]
    }
   ],
   "source": [
    "kbest = apply_pca(indep_X, n_components=2)      \n",
    "\n",
    "acclin = []\n",
    "accsvml = []\n",
    "accsvmnl = []\n",
    "accdes = []\n",
    "accrf = []\n"
   ]
  },
  {
   "cell_type": "code",
   "execution_count": 16,
   "id": "5a42a3d2",
   "metadata": {},
   "outputs": [],
   "source": [
    "X_train, X_test, y_train, y_test = split_scalar(kbest, dep_Y)  \n",
    "for i in kbest:   \n",
    "    r2_lin = Linear(X_train, y_train, X_test)\n",
    "    acclin.append(r2_lin)\n",
    "    \n",
    "    r2_sl = svm_linear(X_train, y_train, X_test)    \n",
    "    accsvml.append(r2_sl)\n",
    "    \n",
    "    r2_NL = svm_NL(X_train, y_train, X_test)\n",
    "    accsvmnl.append(r2_NL)\n",
    "    \n",
    "    r2_d = Decision(X_train, y_train, X_test)\n",
    "    accdes.append(r2_d)\n",
    "    \n",
    "    r2_r = random(X_train, y_train, X_test)\n",
    "    accrf.append(r2_r)\n",
    "    \n",
    "result = pca_i(acclin, accsvml, accsvmnl, accdes, accrf)\n"
   ]
  },
  {
   "cell_type": "code",
   "execution_count": 17,
   "id": "40bbc507",
   "metadata": {},
   "outputs": [
    {
     "data": {
      "text/html": [
       "<div>\n",
       "<style scoped>\n",
       "    .dataframe tbody tr th:only-of-type {\n",
       "        vertical-align: middle;\n",
       "    }\n",
       "\n",
       "    .dataframe tbody tr th {\n",
       "        vertical-align: top;\n",
       "    }\n",
       "\n",
       "    .dataframe thead th {\n",
       "        text-align: right;\n",
       "    }\n",
       "</style>\n",
       "<table border=\"1\" class=\"dataframe\">\n",
       "  <thead>\n",
       "    <tr style=\"text-align: right;\">\n",
       "      <th></th>\n",
       "      <th>Linear</th>\n",
       "      <th>SVMl</th>\n",
       "      <th>SVMnl</th>\n",
       "      <th>Decision</th>\n",
       "      <th>Random</th>\n",
       "    </tr>\n",
       "  </thead>\n",
       "  <tbody>\n",
       "    <tr>\n",
       "      <th>PCA</th>\n",
       "      <td>0.236027</td>\n",
       "      <td>-0.055249</td>\n",
       "      <td>0.32131</td>\n",
       "      <td>0.175347</td>\n",
       "      <td>0.398003</td>\n",
       "    </tr>\n",
       "  </tbody>\n",
       "</table>\n",
       "</div>"
      ],
      "text/plain": [
       "       Linear      SVMl    SVMnl  Decision    Random\n",
       "PCA  0.236027 -0.055249  0.32131  0.175347  0.398003"
      ]
     },
     "execution_count": 17,
     "metadata": {},
     "output_type": "execute_result"
    }
   ],
   "source": [
    "result"
   ]
  },
  {
   "cell_type": "code",
   "execution_count": null,
   "id": "60a6b511",
   "metadata": {},
   "outputs": [],
   "source": []
  }
 ],
 "metadata": {
  "kernelspec": {
   "display_name": "Python 3 (ipykernel)",
   "language": "python",
   "name": "python3"
  },
  "language_info": {
   "codemirror_mode": {
    "name": "ipython",
    "version": 3
   },
   "file_extension": ".py",
   "mimetype": "text/x-python",
   "name": "python",
   "nbconvert_exporter": "python",
   "pygments_lexer": "ipython3",
   "version": "3.11.5"
  }
 },
 "nbformat": 4,
 "nbformat_minor": 5
}
