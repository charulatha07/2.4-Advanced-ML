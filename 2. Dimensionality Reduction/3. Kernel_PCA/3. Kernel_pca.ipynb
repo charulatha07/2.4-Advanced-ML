{
 "cells": [
  {
   "cell_type": "code",
   "execution_count": 1,
   "id": "3addc779",
   "metadata": {},
   "outputs": [],
   "source": [
    "import pandas as pd\n",
    "from sklearn.model_selection import train_test_split \n",
    "import time\n",
    "import numpy as np\n",
    "from sklearn.preprocessing import StandardScaler\n",
    "from sklearn.feature_selection import SelectKBest\n",
    "\n",
    "from sklearn.feature_selection import RFE\n",
    "from sklearn.linear_model import LogisticRegression\n",
    "import pickle\n",
    "import matplotlib.pyplot as plt\n",
    "from sklearn.decomposition import KernelPCA"
   ]
  },
  {
   "cell_type": "code",
   "execution_count": 2,
   "id": "eaab8538",
   "metadata": {},
   "outputs": [],
   "source": [
    "def apply_kernel_pca(indep_X, n_components=2, kernel='rbf'):\n",
    "    kpca = KernelPCA(n_components=n_components, kernel=kernel)\n",
    "    X_kpca = kpca.fit_transform(indep_X)\n",
    "\n",
    "    print(f\"Kernel PCA applied with kernel = '{kernel}' and n_components = {n_components}\")\n",
    "    \n",
    "    return X_kpca"
   ]
  },
  {
   "cell_type": "code",
   "execution_count": 3,
   "id": "05e7bc20",
   "metadata": {},
   "outputs": [],
   "source": [
    "def split_scalar(indep_X, dep_Y):\n",
    "    X_train, X_test, y_train, y_test = train_test_split(indep_X, dep_Y, test_size=0.25, random_state=0)\n",
    "    sc = StandardScaler()\n",
    "    X_train = sc.fit_transform(X_train)\n",
    "    X_test = sc.transform(X_test)    \n",
    "    return X_train, X_test, y_train, y_test"
   ]
  },
  {
   "cell_type": "code",
   "execution_count": 4,
   "id": "fbfaed15",
   "metadata": {},
   "outputs": [],
   "source": [
    "def r2_prediction(regressor, X_test, y_test):\n",
    "    y_pred = regressor.predict(X_test)\n",
    "    from sklearn.metrics import r2_score\n",
    "    r2 = r2_score(y_test, y_pred)\n",
    "    return r2"
   ]
  },
  {
   "cell_type": "code",
   "execution_count": 5,
   "id": "2192125a",
   "metadata": {},
   "outputs": [],
   "source": [
    "def Linear(X_train, y_train, X_test):       \n",
    "    from sklearn.linear_model import LinearRegression\n",
    "    regressor = LinearRegression()\n",
    "    regressor.fit(X_train, y_train)\n",
    "    r2 = r2_prediction(regressor, X_test, y_test)\n",
    "    return r2   "
   ]
  },
  {
   "cell_type": "code",
   "execution_count": 6,
   "id": "9f96939b",
   "metadata": {},
   "outputs": [],
   "source": [
    "def svm_linear(X_train, y_train, X_test):\n",
    "    from sklearn.svm import SVR\n",
    "    regressor = SVR(kernel='linear')\n",
    "    regressor.fit(X_train, y_train)\n",
    "    r2 = r2_prediction(regressor, X_test, y_test)\n",
    "    return r2  "
   ]
  },
  {
   "cell_type": "code",
   "execution_count": 7,
   "id": "d6c326b8",
   "metadata": {},
   "outputs": [],
   "source": [
    "def svm_NL(X_train, y_train, X_test):\n",
    "    from sklearn.svm import SVR\n",
    "    regressor = SVR(kernel='rbf')\n",
    "    regressor.fit(X_train, y_train)\n",
    "    r2 = r2_prediction(regressor, X_test, y_test)\n",
    "    return r2  "
   ]
  },
  {
   "cell_type": "code",
   "execution_count": 8,
   "id": "8dc2664c",
   "metadata": {},
   "outputs": [],
   "source": [
    "def Decision(X_train, y_train, X_test):\n",
    "    from sklearn.tree import DecisionTreeRegressor\n",
    "    regressor = DecisionTreeRegressor(random_state=0)\n",
    "    regressor.fit(X_train, y_train)\n",
    "    r2 = r2_prediction(regressor, X_test, y_test)\n",
    "    return r2  "
   ]
  },
  {
   "cell_type": "code",
   "execution_count": 9,
   "id": "7fbd27c8",
   "metadata": {},
   "outputs": [],
   "source": [
    "def random(X_train, y_train, X_test):       \n",
    "    from sklearn.ensemble import RandomForestRegressor\n",
    "    regressor = RandomForestRegressor(n_estimators=10, random_state=0)\n",
    "    regressor.fit(X_train, y_train)\n",
    "    r2 = r2_prediction(regressor, X_test, y_test)\n",
    "    return r2 \n"
   ]
  },
  {
   "cell_type": "code",
   "execution_count": 10,
   "id": "64986a2e",
   "metadata": {},
   "outputs": [],
   "source": [
    "def kernel_pca(acclin, accsvml, accsvmnl, accdes, accrf): \n",
    "    dataframe = pd.DataFrame(index=['Kernal_pca'], columns=['Linear', 'SVMl', 'SVMnl', 'Decision', 'Random'])\n",
    "\n",
    "    for number, idex in enumerate(dataframe.index):\n",
    "        dataframe['Linear'][idex] = acclin[number]       \n",
    "        dataframe['SVMl'][idex] = accsvml[number]\n",
    "        dataframe['SVMnl'][idex] = accsvmnl[number]\n",
    "        dataframe['Decision'][idex] = accdes[number]\n",
    "        dataframe['Random'][idex] = accrf[number]\n",
    "    return dataframe"
   ]
  },
  {
   "cell_type": "code",
   "execution_count": 11,
   "id": "5d579a8e",
   "metadata": {},
   "outputs": [],
   "source": [
    "dataset1 = pd.read_csv(\"prep.csv\", index_col=None)\n"
   ]
  },
  {
   "cell_type": "code",
   "execution_count": 12,
   "id": "eb3f234b",
   "metadata": {},
   "outputs": [],
   "source": [
    "df2 = dataset1"
   ]
  },
  {
   "cell_type": "code",
   "execution_count": 13,
   "id": "239fc531",
   "metadata": {},
   "outputs": [],
   "source": [
    "df2 = pd.get_dummies(df2, drop_first=True)"
   ]
  },
  {
   "cell_type": "code",
   "execution_count": 14,
   "id": "b16c95cf",
   "metadata": {},
   "outputs": [],
   "source": [
    "\n",
    "indep_X = df2.drop('classification_yes', axis=1)\n",
    "dep_Y = df2['classification_yes']\n"
   ]
  },
  {
   "cell_type": "code",
   "execution_count": 15,
   "id": "05e102ee",
   "metadata": {},
   "outputs": [
    {
     "name": "stdout",
     "output_type": "stream",
     "text": [
      "Kernel PCA applied with kernel = 'rbf' and n_components = 2\n"
     ]
    }
   ],
   "source": [
    "kbest = apply_kernel_pca(indep_X, n_components=2, kernel='rbf')      \n",
    "\n",
    "acclin = []\n",
    "accsvml = []\n",
    "accsvmnl = []\n",
    "accdes = []\n",
    "accrf = []\n"
   ]
  },
  {
   "cell_type": "code",
   "execution_count": 16,
   "id": "f510ce8e",
   "metadata": {},
   "outputs": [],
   "source": [
    "X_train, X_test, y_train, y_test = split_scalar(kbest, dep_Y)  \n",
    "for i in kbest:   \n",
    "    r2_lin = Linear(X_train, y_train, X_test)\n",
    "    acclin.append(r2_lin)\n",
    "    \n",
    "    r2_sl = svm_linear(X_train, y_train, X_test)    \n",
    "    accsvml.append(r2_sl)\n",
    "    \n",
    "    r2_NL = svm_NL(X_train, y_train, X_test)\n",
    "    accsvmnl.append(r2_NL)\n",
    "    \n",
    "    r2_d = Decision(X_train, y_train, X_test)\n",
    "    accdes.append(r2_d)\n",
    "    \n",
    "    r2_r = random(X_train, y_train, X_test)\n",
    "    accrf.append(r2_r)\n",
    "    \n",
    "result = kernel_pca(acclin, accsvml, accsvmnl, accdes, accrf)\n"
   ]
  },
  {
   "cell_type": "code",
   "execution_count": 17,
   "id": "450e15f3",
   "metadata": {},
   "outputs": [
    {
     "data": {
      "text/html": [
       "<div>\n",
       "<style scoped>\n",
       "    .dataframe tbody tr th:only-of-type {\n",
       "        vertical-align: middle;\n",
       "    }\n",
       "\n",
       "    .dataframe tbody tr th {\n",
       "        vertical-align: top;\n",
       "    }\n",
       "\n",
       "    .dataframe thead th {\n",
       "        text-align: right;\n",
       "    }\n",
       "</style>\n",
       "<table border=\"1\" class=\"dataframe\">\n",
       "  <thead>\n",
       "    <tr style=\"text-align: right;\">\n",
       "      <th></th>\n",
       "      <th>Linear</th>\n",
       "      <th>SVMl</th>\n",
       "      <th>SVMnl</th>\n",
       "      <th>Decision</th>\n",
       "      <th>Random</th>\n",
       "    </tr>\n",
       "  </thead>\n",
       "  <tbody>\n",
       "    <tr>\n",
       "      <th>Kernal_pca</th>\n",
       "      <td>0.003834</td>\n",
       "      <td>-0.293736</td>\n",
       "      <td>-0.2929</td>\n",
       "      <td>0.03099</td>\n",
       "      <td>0.006517</td>\n",
       "    </tr>\n",
       "  </tbody>\n",
       "</table>\n",
       "</div>"
      ],
      "text/plain": [
       "              Linear      SVMl   SVMnl Decision    Random\n",
       "Kernal_pca  0.003834 -0.293736 -0.2929  0.03099  0.006517"
      ]
     },
     "execution_count": 17,
     "metadata": {},
     "output_type": "execute_result"
    }
   ],
   "source": [
    "result"
   ]
  },
  {
   "cell_type": "code",
   "execution_count": null,
   "id": "7f4e3c5d",
   "metadata": {},
   "outputs": [],
   "source": []
  }
 ],
 "metadata": {
  "kernelspec": {
   "display_name": "Python 3 (ipykernel)",
   "language": "python",
   "name": "python3"
  },
  "language_info": {
   "codemirror_mode": {
    "name": "ipython",
    "version": 3
   },
   "file_extension": ".py",
   "mimetype": "text/x-python",
   "name": "python",
   "nbconvert_exporter": "python",
   "pygments_lexer": "ipython3",
   "version": "3.11.5"
  }
 },
 "nbformat": 4,
 "nbformat_minor": 5
}
