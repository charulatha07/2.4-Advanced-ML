{
 "cells": [
  {
   "cell_type": "code",
   "execution_count": 1,
   "id": "0ba677b8",
   "metadata": {},
   "outputs": [],
   "source": [
    "import pandas as pd\n",
    "from sklearn.model_selection import train_test_split \n",
    "import time\n",
    "import numpy as np\n",
    "from sklearn.preprocessing import StandardScaler\n",
    "from sklearn.feature_selection import SelectKBest\n",
    "\n",
    "from sklearn.feature_selection import RFE\n",
    "from sklearn.linear_model import LogisticRegression\n",
    "import pickle\n",
    "import matplotlib.pyplot as plt\n",
    "from sklearn.discriminant_analysis import LinearDiscriminantAnalysis as LDA"
   ]
  },
  {
   "cell_type": "code",
   "execution_count": 2,
   "id": "033f435c",
   "metadata": {},
   "outputs": [],
   "source": [
    "def apply_lda(indep_X, dep_Y, n_components=2):\n",
    "    lda = LDA(n_components=n_components)\n",
    "    X_lda = lda.fit_transform(indep_X, dep_Y)\n",
    "\n",
    "    print(\"LDA transformation completed.\")\n",
    "    \n",
    "    return X_lda"
   ]
  },
  {
   "cell_type": "code",
   "execution_count": 3,
   "id": "27ed113a",
   "metadata": {},
   "outputs": [],
   "source": [
    "def split_scalar(indep_X, dep_Y):\n",
    "    X_train, X_test, y_train, y_test = train_test_split(indep_X, dep_Y, test_size=0.25, random_state=0)\n",
    "    sc = StandardScaler()\n",
    "    X_train = sc.fit_transform(X_train)\n",
    "    X_test = sc.transform(X_test)    \n",
    "    return X_train, X_test, y_train, y_test"
   ]
  },
  {
   "cell_type": "code",
   "execution_count": 4,
   "id": "c313b6d4",
   "metadata": {},
   "outputs": [],
   "source": [
    "def r2_prediction(regressor, X_test, y_test):\n",
    "    y_pred = regressor.predict(X_test)\n",
    "    from sklearn.metrics import r2_score\n",
    "    r2 = r2_score(y_test, y_pred)\n",
    "    return r2"
   ]
  },
  {
   "cell_type": "code",
   "execution_count": 5,
   "id": "0962c268",
   "metadata": {},
   "outputs": [],
   "source": [
    "def Linear(X_train, y_train, X_test):       \n",
    "    from sklearn.linear_model import LinearRegression\n",
    "    regressor = LinearRegression()\n",
    "    regressor.fit(X_train, y_train)\n",
    "    r2 = r2_prediction(regressor, X_test, y_test)\n",
    "    return r2   "
   ]
  },
  {
   "cell_type": "code",
   "execution_count": 6,
   "id": "1de56df7",
   "metadata": {},
   "outputs": [],
   "source": [
    "def svm_linear(X_train, y_train, X_test):\n",
    "    from sklearn.svm import SVR\n",
    "    regressor = SVR(kernel='linear')\n",
    "    regressor.fit(X_train, y_train)\n",
    "    r2 = r2_prediction(regressor, X_test, y_test)\n",
    "    return r2  "
   ]
  },
  {
   "cell_type": "code",
   "execution_count": 7,
   "id": "b7987bce",
   "metadata": {},
   "outputs": [],
   "source": [
    "def svm_NL(X_train, y_train, X_test):\n",
    "    from sklearn.svm import SVR\n",
    "    regressor = SVR(kernel='rbf')\n",
    "    regressor.fit(X_train, y_train)\n",
    "    r2 = r2_prediction(regressor, X_test, y_test)\n",
    "    return r2  "
   ]
  },
  {
   "cell_type": "code",
   "execution_count": 8,
   "id": "132eeea8",
   "metadata": {},
   "outputs": [],
   "source": [
    "def Decision(X_train, y_train, X_test):\n",
    "    from sklearn.tree import DecisionTreeRegressor\n",
    "    regressor = DecisionTreeRegressor(random_state=0)\n",
    "    regressor.fit(X_train, y_train)\n",
    "    r2 = r2_prediction(regressor, X_test, y_test)\n",
    "    return r2  "
   ]
  },
  {
   "cell_type": "code",
   "execution_count": 9,
   "id": "5af8f88f",
   "metadata": {},
   "outputs": [],
   "source": [
    "def random(X_train, y_train, X_test):       \n",
    "    from sklearn.ensemble import RandomForestRegressor\n",
    "    regressor = RandomForestRegressor(n_estimators=10, random_state=0)\n",
    "    regressor.fit(X_train, y_train)\n",
    "    r2 = r2_prediction(regressor, X_test, y_test)\n",
    "    return r2 \n"
   ]
  },
  {
   "cell_type": "code",
   "execution_count": 10,
   "id": "29d03c5e",
   "metadata": {},
   "outputs": [],
   "source": [
    "def lda_i(acclin, accsvml, accsvmnl, accdes, accrf): \n",
    "    dataframe = pd.DataFrame(index=['LDA'], columns=['Linear', 'SVMl', 'SVMnl', 'Decision', 'Random'])\n",
    "\n",
    "    for number, idex in enumerate(dataframe.index):\n",
    "        dataframe['Linear'][idex] = acclin[number]       \n",
    "        dataframe['SVMl'][idex] = accsvml[number]\n",
    "        dataframe['SVMnl'][idex] = accsvmnl[number]\n",
    "        dataframe['Decision'][idex] = accdes[number]\n",
    "        dataframe['Random'][idex] = accrf[number]\n",
    "    return dataframe"
   ]
  },
  {
   "cell_type": "code",
   "execution_count": 11,
   "id": "8cb30d5f",
   "metadata": {},
   "outputs": [],
   "source": [
    "dataset1 = pd.read_csv(\"prep.csv\", index_col=None)\n"
   ]
  },
  {
   "cell_type": "code",
   "execution_count": 12,
   "id": "078441e2",
   "metadata": {},
   "outputs": [],
   "source": [
    "df2 = dataset1"
   ]
  },
  {
   "cell_type": "code",
   "execution_count": 13,
   "id": "eb8c4950",
   "metadata": {},
   "outputs": [],
   "source": [
    "df2 = pd.get_dummies(df2, drop_first=True)"
   ]
  },
  {
   "cell_type": "code",
   "execution_count": 14,
   "id": "61866ac9",
   "metadata": {},
   "outputs": [],
   "source": [
    "\n",
    "indep_X = df2.drop('classification_yes', axis=1)\n",
    "dep_Y = df2['classification_yes']\n"
   ]
  },
  {
   "cell_type": "code",
   "execution_count": 15,
   "id": "4a96ac60",
   "metadata": {},
   "outputs": [
    {
     "name": "stdout",
     "output_type": "stream",
     "text": [
      "LDA transformation completed.\n"
     ]
    }
   ],
   "source": [
    "kbest = apply_lda(indep_X, dep_Y, n_components=1)      \n",
    "\n",
    "acclin = []\n",
    "accsvml = []\n",
    "accsvmnl = []\n",
    "accdes = []\n",
    "accrf = []\n"
   ]
  },
  {
   "cell_type": "code",
   "execution_count": 16,
   "id": "cc82054c",
   "metadata": {},
   "outputs": [],
   "source": [
    "X_train, X_test, y_train, y_test = split_scalar(kbest, dep_Y)  \n",
    "for i in kbest:   \n",
    "    r2_lin = Linear(X_train, y_train, X_test)\n",
    "    acclin.append(r2_lin)\n",
    "    \n",
    "    r2_sl = svm_linear(X_train, y_train, X_test)    \n",
    "    accsvml.append(r2_sl)\n",
    "    \n",
    "    r2_NL = svm_NL(X_train, y_train, X_test)\n",
    "    accsvmnl.append(r2_NL)\n",
    "    \n",
    "    r2_d = Decision(X_train, y_train, X_test)\n",
    "    accdes.append(r2_d)\n",
    "    \n",
    "    r2_r = random(X_train, y_train, X_test)\n",
    "    accrf.append(r2_r)\n",
    "    \n",
    "result = lda_i(acclin, accsvml, accsvmnl, accdes, accrf)\n"
   ]
  },
  {
   "cell_type": "code",
   "execution_count": 17,
   "id": "cc6dd43d",
   "metadata": {},
   "outputs": [
    {
     "data": {
      "text/html": [
       "<div>\n",
       "<style scoped>\n",
       "    .dataframe tbody tr th:only-of-type {\n",
       "        vertical-align: middle;\n",
       "    }\n",
       "\n",
       "    .dataframe tbody tr th {\n",
       "        vertical-align: top;\n",
       "    }\n",
       "\n",
       "    .dataframe thead th {\n",
       "        text-align: right;\n",
       "    }\n",
       "</style>\n",
       "<table border=\"1\" class=\"dataframe\">\n",
       "  <thead>\n",
       "    <tr style=\"text-align: right;\">\n",
       "      <th></th>\n",
       "      <th>Linear</th>\n",
       "      <th>SVMl</th>\n",
       "      <th>SVMnl</th>\n",
       "      <th>Decision</th>\n",
       "      <th>Random</th>\n",
       "    </tr>\n",
       "  </thead>\n",
       "  <tbody>\n",
       "    <tr>\n",
       "      <th>LDA</th>\n",
       "      <td>0.750587</td>\n",
       "      <td>0.739355</td>\n",
       "      <td>0.946535</td>\n",
       "      <td>0.956597</td>\n",
       "      <td>0.977865</td>\n",
       "    </tr>\n",
       "  </tbody>\n",
       "</table>\n",
       "</div>"
      ],
      "text/plain": [
       "       Linear      SVMl     SVMnl  Decision    Random\n",
       "LDA  0.750587  0.739355  0.946535  0.956597  0.977865"
      ]
     },
     "execution_count": 17,
     "metadata": {},
     "output_type": "execute_result"
    }
   ],
   "source": [
    "result"
   ]
  },
  {
   "cell_type": "code",
   "execution_count": null,
   "id": "3b447557",
   "metadata": {},
   "outputs": [],
   "source": []
  }
 ],
 "metadata": {
  "kernelspec": {
   "display_name": "Python 3 (ipykernel)",
   "language": "python",
   "name": "python3"
  },
  "language_info": {
   "codemirror_mode": {
    "name": "ipython",
    "version": 3
   },
   "file_extension": ".py",
   "mimetype": "text/x-python",
   "name": "python",
   "nbconvert_exporter": "python",
   "pygments_lexer": "ipython3",
   "version": "3.11.5"
  }
 },
 "nbformat": 4,
 "nbformat_minor": 5
}
