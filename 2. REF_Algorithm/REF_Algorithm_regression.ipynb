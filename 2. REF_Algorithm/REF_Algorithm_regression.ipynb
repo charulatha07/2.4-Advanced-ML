{
 "cells": [
  {
   "cell_type": "code",
   "execution_count": 1,
   "id": "72b0aa8c",
   "metadata": {},
   "outputs": [],
   "source": [
    "import pandas as pd\n",
    "from sklearn.model_selection import train_test_split \n",
    "import time\n",
    "import numpy as np\n",
    "from sklearn.preprocessing import StandardScaler\n",
    "from sklearn.feature_selection import SelectKBest\n",
    "from sklearn.feature_selection import chi2\n",
    "from sklearn.feature_selection import RFE\n",
    "from sklearn.linear_model import LogisticRegression\n",
    "import pickle\n",
    "import matplotlib.pyplot as plt"
   ]
  },
  {
   "cell_type": "code",
   "execution_count": 2,
   "id": "753f7b23",
   "metadata": {},
   "outputs": [],
   "source": [
    "def split_scalar(indep_X,dep_Y):\n",
    "        X_train, X_test, y_train, y_test = train_test_split(indep_X, dep_Y, test_size = 0.25, random_state = 0)\n",
    "        #X_train, X_test, y_train, y_test = train_test_split(indep_X,dep_Y, test_size = 0.25, random_state = 0)\n",
    "        \n",
    "        #Feature Scaling\n",
    "        #from sklearn.preprocessing import StandardScaler\n",
    "        sc = StandardScaler()\n",
    "        X_train = sc.fit_transform(X_train)\n",
    "        X_test = sc.transform(X_test)    \n",
    "        return X_train, X_test, y_train, y_test"
   ]
  },
  {
   "cell_type": "code",
   "execution_count": 3,
   "id": "74e3dc1a",
   "metadata": {},
   "outputs": [],
   "source": [
    "def r2_prediction(regressor,X_test,y_test):\n",
    "    y_pred = regressor.predict(X_test)\n",
    "    from sklearn.metrics import r2_score\n",
    "    r2=r2_score(y_test,y_pred)\n",
    "    return r2"
   ]
  },
  {
   "cell_type": "code",
   "execution_count": 4,
   "id": "87052b2b",
   "metadata": {},
   "outputs": [],
   "source": [
    "def Linear(X_train,y_train,X_test):       \n",
    "        # Fitting K-NN to the Training set\n",
    "        from sklearn.linear_model import LinearRegression\n",
    "        regressor = LinearRegression()\n",
    "        regressor.fit(X_train, y_train)\n",
    "        r2=r2_prediction(regressor,X_test,y_test)\n",
    "        return  r2   "
   ]
  },
  {
   "cell_type": "code",
   "execution_count": 5,
   "id": "bedf03fd",
   "metadata": {},
   "outputs": [],
   "source": [
    "def svm_linear(X_train,y_train,X_test):\n",
    "                \n",
    "        from sklearn.svm import SVR\n",
    "        regressor = SVR(kernel = 'linear')\n",
    "        regressor.fit(X_train, y_train)\n",
    "        r2=r2_prediction(regressor,X_test,y_test)\n",
    "        return  r2  \n",
    "    "
   ]
  },
  {
   "cell_type": "code",
   "execution_count": 6,
   "id": "a2720e7f",
   "metadata": {},
   "outputs": [],
   "source": [
    "def svm_NL(X_train,y_train,X_test):\n",
    "                \n",
    "        from sklearn.svm import SVR\n",
    "        regressor = SVR(kernel = 'rbf')\n",
    "        regressor.fit(X_train, y_train)\n",
    "        r2=r2_prediction(regressor,X_test,y_test)\n",
    "        return  r2  "
   ]
  },
  {
   "cell_type": "code",
   "execution_count": 7,
   "id": "e3d827e5",
   "metadata": {},
   "outputs": [],
   "source": [
    "def Decision(X_train,y_train,X_test):\n",
    "        \n",
    "        # Fitting K-NN to the Training setC\n",
    "        from sklearn.tree import DecisionTreeRegressor\n",
    "        regressor = DecisionTreeRegressor(random_state = 0)\n",
    "        regressor.fit(X_train, y_train)\n",
    "        r2=r2_prediction(regressor,X_test,y_test)\n",
    "        return  r2  "
   ]
  },
  {
   "cell_type": "code",
   "execution_count": 8,
   "id": "119e6d03",
   "metadata": {},
   "outputs": [],
   "source": [
    "\n",
    "def random(X_train,y_train,X_test):       \n",
    "        # Fitting K-NN to the Training set\n",
    "        from sklearn.ensemble import RandomForestRegressor\n",
    "        regressor = RandomForestRegressor(n_estimators = 10, random_state = 0)\n",
    "        regressor.fit(X_train, y_train)\n",
    "        r2=r2_prediction(regressor,X_test,y_test)\n",
    "        return  r2 "
   ]
  },
  {
   "cell_type": "code",
   "execution_count": 9,
   "id": "6963035e",
   "metadata": {},
   "outputs": [],
   "source": [
    "def rfeFeature(indep_X,dep_Y,n):\n",
    "        rfelist=[]\n",
    "        \n",
    "        from sklearn.linear_model import LinearRegression\n",
    "        lin = LinearRegression()\n",
    "        \n",
    "        from sklearn.svm import SVR\n",
    "        SVRl = SVR(kernel = 'linear')\n",
    "        \n",
    "        from sklearn.svm import SVR\n",
    "        #SVRnl = SVR(kernel = 'rbf')\n",
    "        \n",
    "        from sklearn.tree import DecisionTreeRegressor\n",
    "        dec = DecisionTreeRegressor(random_state = 0)\n",
    "        \n",
    "        from sklearn.ensemble import RandomForestRegressor\n",
    "        rf = RandomForestRegressor(n_estimators = 10, random_state = 0)\n",
    "        \n",
    "        \n",
    "        rfemodellist=[lin,SVRl,dec,rf] \n",
    "        for i in   rfemodellist:\n",
    "            print(i)\n",
    "            log_rfe = RFE(estimator=i, n_features_to_select=n)\n",
    "            log_fit = log_rfe.fit(indep_X, dep_Y)\n",
    "            log_rfe_feature=log_fit.transform(indep_X)\n",
    "            rfelist.append(log_rfe_feature)\n",
    "        return rfelist"
   ]
  },
  {
   "cell_type": "code",
   "execution_count": 10,
   "id": "35c12f44",
   "metadata": {},
   "outputs": [],
   "source": [
    "def rfe_regression(acclog,accsvml,accdes,accrf): \n",
    "    \n",
    "    rfedataframe=pd.DataFrame(index=['Linear','SVC','Random','DecisionTree'],columns=['Linear','SVMl',\n",
    "                                                                                        'Decision','Random'])\n",
    "\n",
    "    for number,idex in enumerate(rfedataframe.index):\n",
    "        \n",
    "        rfedataframe['Linear'][idex]=acclog[number]       \n",
    "        rfedataframe['SVMl'][idex]=accsvml[number]\n",
    "        rfedataframe['Decision'][idex]=accdes[number]\n",
    "        rfedataframe['Random'][idex]=accrf[number]\n",
    "    return rfedataframe"
   ]
  },
  {
   "cell_type": "code",
   "execution_count": 11,
   "id": "71760a46",
   "metadata": {},
   "outputs": [],
   "source": [
    "dataset1=pd.read_csv(\"prep.csv\",index_col=None)\n",
    "df2=dataset1\n",
    "df2 = pd.get_dummies(df2, drop_first=True)\n",
    "\n",
    "indep_X=df2.drop('classification_yes', axis=1)\n",
    "dep_Y=df2['classification_yes']\n"
   ]
  },
  {
   "cell_type": "code",
   "execution_count": 12,
   "id": "973cff7a",
   "metadata": {},
   "outputs": [
    {
     "name": "stdout",
     "output_type": "stream",
     "text": [
      "LinearRegression()\n",
      "SVR(kernel='linear')\n",
      "DecisionTreeRegressor(random_state=0)\n",
      "RandomForestRegressor(n_estimators=10, random_state=0)\n"
     ]
    }
   ],
   "source": [
    "rfelist=rfeFeature(indep_X,dep_Y,3)       \n",
    "\n",
    "acclin=[]\n",
    "accsvml=[]\n",
    "accsvmnl=[]\n",
    "accdes=[]\n",
    "accrf=[]"
   ]
  },
  {
   "cell_type": "code",
   "execution_count": 13,
   "id": "11aae498",
   "metadata": {},
   "outputs": [],
   "source": [
    "for i in rfelist:   \n",
    "    X_train, X_test, y_train, y_test=split_scalar(i,dep_Y)  \n",
    "    r2_lin=Linear(X_train,y_train,X_test)\n",
    "    acclin.append(r2_lin)\n",
    "    \n",
    "    r2_sl=svm_linear(X_train,y_train,X_test)    \n",
    "    accsvml.append(r2_sl)\n",
    "    \n",
    "    r2_NL=svm_NL(X_train,y_train,X_test)\n",
    "    accsvmnl.append(r2_NL)\n",
    "    \n",
    "    r2_d=Decision(X_train,y_train,X_test)\n",
    "    accdes.append(r2_d)\n",
    "    \n",
    "    r2_r=random(X_train,y_train,X_test)\n",
    "    accrf.append(r2_r)\n",
    "    \n",
    "    \n",
    "result=rfe_regression(acclin,accsvml,accdes,accrf)"
   ]
  },
  {
   "cell_type": "code",
   "execution_count": 14,
   "id": "30e1c04a",
   "metadata": {},
   "outputs": [
    {
     "data": {
      "text/html": [
       "<div>\n",
       "<style scoped>\n",
       "    .dataframe tbody tr th:only-of-type {\n",
       "        vertical-align: middle;\n",
       "    }\n",
       "\n",
       "    .dataframe tbody tr th {\n",
       "        vertical-align: top;\n",
       "    }\n",
       "\n",
       "    .dataframe thead th {\n",
       "        text-align: right;\n",
       "    }\n",
       "</style>\n",
       "<table border=\"1\" class=\"dataframe\">\n",
       "  <thead>\n",
       "    <tr style=\"text-align: right;\">\n",
       "      <th></th>\n",
       "      <th>Linear</th>\n",
       "      <th>SVMl</th>\n",
       "      <th>Decision</th>\n",
       "      <th>Random</th>\n",
       "    </tr>\n",
       "  </thead>\n",
       "  <tbody>\n",
       "    <tr>\n",
       "      <th>Linear</th>\n",
       "      <td>0.441961</td>\n",
       "      <td>0.262153</td>\n",
       "      <td>0.441961</td>\n",
       "      <td>0.441816</td>\n",
       "    </tr>\n",
       "    <tr>\n",
       "      <th>SVC</th>\n",
       "      <td>0.441961</td>\n",
       "      <td>0.262153</td>\n",
       "      <td>0.441961</td>\n",
       "      <td>0.441816</td>\n",
       "    </tr>\n",
       "    <tr>\n",
       "      <th>Random</th>\n",
       "      <td>0.664893</td>\n",
       "      <td>0.609652</td>\n",
       "      <td>0.965961</td>\n",
       "      <td>0.916304</td>\n",
       "    </tr>\n",
       "    <tr>\n",
       "      <th>DecisionTree</th>\n",
       "      <td>0.676174</td>\n",
       "      <td>0.670691</td>\n",
       "      <td>0.933504</td>\n",
       "      <td>0.887256</td>\n",
       "    </tr>\n",
       "  </tbody>\n",
       "</table>\n",
       "</div>"
      ],
      "text/plain": [
       "                Linear      SVMl  Decision    Random\n",
       "Linear        0.441961  0.262153  0.441961  0.441816\n",
       "SVC           0.441961  0.262153  0.441961  0.441816\n",
       "Random        0.664893  0.609652  0.965961  0.916304\n",
       "DecisionTree  0.676174  0.670691  0.933504  0.887256"
      ]
     },
     "execution_count": 14,
     "metadata": {},
     "output_type": "execute_result"
    }
   ],
   "source": [
    "result"
   ]
  },
  {
   "cell_type": "code",
   "execution_count": 15,
   "id": "fe198c3b",
   "metadata": {},
   "outputs": [],
   "source": [
    "# Import necessary libraries\n",
    "from sklearn.feature_selection import RFE\n",
    "from sklearn.linear_model import LinearRegression\n",
    "from sklearn.svm import SVR\n",
    "from sklearn.tree import DecisionTreeRegressor\n",
    "from sklearn.ensemble import RandomForestRegressor\n"
   ]
  },
  {
   "cell_type": "code",
   "execution_count": 20,
   "id": "0ba381d8",
   "metadata": {},
   "outputs": [],
   "source": [
    "\n",
    "def select_rfe(indep_X, dep_Y, n):\n",
    "    models = {\n",
    "        \"LinearRegression\":  LinearRegression(),\n",
    "        \"SVR\": SVR(kernel='linear'),\n",
    "        \"DecisionTree\": DecisionTreeRegressor(random_state=0),\n",
    "        \"RandomForest\": RandomForestRegressor(n_estimators=10, random_state=0)\n",
    "    }\n",
    "\n",
    "    selected_features_dict = {\n",
    "        name: indep_X.columns[RFE(estimator=model, n_features_to_select=n).fit(indep_X, dep_Y).get_support(indices=True)].tolist()\n",
    "        for name, model in models.items()\n",
    "    }\n",
    "\n",
    "    return selected_features_dict"
   ]
  },
  {
   "cell_type": "code",
   "execution_count": 21,
   "id": "262d2850",
   "metadata": {},
   "outputs": [],
   "source": [
    "\n",
    "# Call the function\n",
    "selected_features = select_rfe(indep_X, dep_Y, 5)\n"
   ]
  },
  {
   "cell_type": "code",
   "execution_count": 22,
   "id": "ff7c31a3",
   "metadata": {},
   "outputs": [
    {
     "name": "stdout",
     "output_type": "stream",
     "text": [
      "LinearRegression: ['sg_b', 'sg_c', 'sg_d', 'sg_e', 'htn_yes']\n",
      "SVR: ['sg_c', 'sg_d', 'sg_e', 'rbc_normal', 'htn_yes']\n",
      "DecisionTree: ['bu', 'hrmo', 'rc', 'sg_c', 'sg_d']\n",
      "RandomForest: ['al', 'hrmo', 'rc', 'sg_c', 'sg_d']\n"
     ]
    }
   ],
   "source": [
    "\n",
    "# Print results\n",
    "for model, features in selected_features.items():\n",
    "    print(f\"{model}: {features}\")"
   ]
  },
  {
   "cell_type": "code",
   "execution_count": null,
   "id": "197ae398",
   "metadata": {},
   "outputs": [],
   "source": []
  }
 ],
 "metadata": {
  "kernelspec": {
   "display_name": "Python 3 (ipykernel)",
   "language": "python",
   "name": "python3"
  },
  "language_info": {
   "codemirror_mode": {
    "name": "ipython",
    "version": 3
   },
   "file_extension": ".py",
   "mimetype": "text/x-python",
   "name": "python",
   "nbconvert_exporter": "python",
   "pygments_lexer": "ipython3",
   "version": "3.11.5"
  }
 },
 "nbformat": 4,
 "nbformat_minor": 5
}
